{
 "cells": [
  {
   "cell_type": "code",
   "execution_count": 6,
   "metadata": {},
   "outputs": [],
   "source": [
    "from math import exp\n",
    "import enum\n",
    "\n",
    "\n",
    "baseCommune = 0.01944994\n",
    "baseRare = 0.1560084\n",
    "baseMythique = 0.6299147\n",
    "\n",
    "coeffCommune = (-0.0004514886/-0.02316184)\n",
    "coeffRare = (-0.003646017/-0.0230917)\n",
    "coeffMythique = (-0.01455162/-0.02310656)\n",
    "\n",
    "expCommune = 0.02316184\n",
    "expRare = 0.0230917\n",
    "expMythique = 0.02310656\n",
    "\n",
    "\n",
    "def poudre_coeff(base, coeff, e, lvl):\n",
    "    return base - coeff * (1 - exp(e*lvl))\n",
    "\n",
    "# make an enum for rarete\n",
    "class rarete(enum.Enum):\n",
    "    commune = 0\n",
    "    rare = 1\n",
    "    mythique = 2\n",
    "\n",
    "def poudre(lvl, rarete):\n",
    "    if rarete == rarete.commune:\n",
    "        return poudre_coeff(baseCommune, coeffCommune, expCommune, lvl)\n",
    "    elif rarete == rarete.rare:\n",
    "        return poudre_coeff(baseRare, coeffRare, expRare, lvl)\n",
    "    elif rarete == rarete.mythique:\n",
    "        return poudre_coeff(baseMythique, coeffMythique, expMythique, lvl)\n",
    "    else:\n",
    "        return 0\n",
    "    "
   ]
  },
  {
   "cell_type": "code",
   "execution_count": 7,
   "metadata": {},
   "outputs": [
    {
     "data": {
      "text/plain": [
       "0.7228717407271896"
      ]
     },
     "execution_count": 7,
     "metadata": {},
     "output_type": "execute_result"
    }
   ],
   "source": [
    "poudre(156, rarete.commune)"
   ]
  },
  {
   "cell_type": "code",
   "execution_count": 8,
   "metadata": {},
   "outputs": [
    {
     "data": {
      "text/plain": [
       "1.023186238126053"
      ]
     },
     "execution_count": 8,
     "metadata": {},
     "output_type": "execute_result"
    }
   ],
   "source": [
    "poudre(171, rarete.commune)"
   ]
  },
  {
   "cell_type": "code",
   "execution_count": 9,
   "metadata": {},
   "outputs": [
    {
     "data": {
      "text/plain": [
       "1.4482579337193244"
      ]
     },
     "execution_count": 9,
     "metadata": {},
     "output_type": "execute_result"
    }
   ],
   "source": [
    "poudre(186, rarete.commune)"
   ]
  },
  {
   "cell_type": "code",
   "execution_count": 10,
   "metadata": {},
   "outputs": [
    {
     "data": {
      "text/plain": [
       "2.049913691132061"
      ]
     },
     "execution_count": 10,
     "metadata": {},
     "output_type": "execute_result"
    }
   ],
   "source": [
    "poudre(201, rarete.commune)"
   ]
  }
 ],
 "metadata": {
  "kernelspec": {
   "display_name": "Python 3",
   "language": "python",
   "name": "python3"
  },
  "language_info": {
   "codemirror_mode": {
    "name": "ipython",
    "version": 3
   },
   "file_extension": ".py",
   "mimetype": "text/x-python",
   "name": "python",
   "nbconvert_exporter": "python",
   "pygments_lexer": "ipython3",
   "version": "3.11.5"
  }
 },
 "nbformat": 4,
 "nbformat_minor": 2
}
